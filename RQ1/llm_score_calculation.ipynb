{
 "cells": [
  {
   "cell_type": "code",
   "execution_count": 1,
   "id": "7991b673",
   "metadata": {},
   "outputs": [],
   "source": [
    "import pandas as pd"
   ]
  },
  {
   "cell_type": "code",
   "execution_count": 2,
   "id": "99db5755",
   "metadata": {},
   "outputs": [],
   "source": [
    "score_data1 = pd.read_csv('llm_as_judge_results/results_dataframe_0.1.csv')\n",
    "score_data2 = pd.read_csv('llm_as_judge_results/results_dataframe-2_0.1.csv')"
   ]
  },
  {
   "cell_type": "code",
   "execution_count": 14,
   "id": "966424af",
   "metadata": {},
   "outputs": [],
   "source": [
    "filtered_df1 = score_data1[score_data1[\"RAG1-3_unseen\"] == 1]\n",
    "filtered_df2 = score_data2[score_data2[\"RAG1-3_unseen\"] == 1]"
   ]
  },
  {
   "cell_type": "code",
   "execution_count": 15,
   "id": "dd7fd18a",
   "metadata": {},
   "outputs": [
    {
     "name": "stdout",
     "output_type": "stream",
     "text": [
      "385\n",
      "159\n"
     ]
    }
   ],
   "source": [
    "print(len(filtered_df1))\n",
    "print(len(filtered_df2))"
   ]
  },
  {
   "cell_type": "code",
   "execution_count": 11,
   "id": "277e4086",
   "metadata": {},
   "outputs": [
    {
     "data": {
      "text/html": [
       "<div>\n",
       "<style scoped>\n",
       "    .dataframe tbody tr th:only-of-type {\n",
       "        vertical-align: middle;\n",
       "    }\n",
       "\n",
       "    .dataframe tbody tr th {\n",
       "        vertical-align: top;\n",
       "    }\n",
       "\n",
       "    .dataframe thead th {\n",
       "        text-align: right;\n",
       "    }\n",
       "</style>\n",
       "<table border=\"1\" class=\"dataframe\">\n",
       "  <thead>\n",
       "    <tr style=\"text-align: right;\">\n",
       "      <th></th>\n",
       "      <th>Question</th>\n",
       "      <th>RAG1</th>\n",
       "      <th>RAG2</th>\n",
       "      <th>RAG3</th>\n",
       "      <th>RAG4</th>\n",
       "      <th>RAG5</th>\n",
       "      <th>RAG6</th>\n",
       "      <th>RAG1-3_unseen</th>\n",
       "      <th>RAG4_unseen</th>\n",
       "      <th>RAG5_unseen</th>\n",
       "      <th>RAG6_unseen</th>\n",
       "      <th>RAG4_results</th>\n",
       "      <th>RAG5_results</th>\n",
       "      <th>RAG3_results</th>\n",
       "      <th>RAG1_results</th>\n",
       "      <th>RAG2_results</th>\n",
       "      <th>RAG6_results</th>\n",
       "    </tr>\n",
       "  </thead>\n",
       "  <tbody>\n",
       "    <tr>\n",
       "      <th>0</th>\n",
       "      <td>Having trouble setting up grunt-browser-sync i...</td>\n",
       "      <td>**ANSWER**\\nIt sounds like there are several p...</td>\n",
       "      <td>## Step 1: Identify the issue with grunt-brows...</td>\n",
       "      <td>---\\n\\nI can help with that. To set up Grunt B...</td>\n",
       "      <td>To set up Grunt BrowserSync in Cloud9, you'll ...</td>\n",
       "      <td>```javascript\\nmodule.exports = function(grunt...</td>\n",
       "      <td>I've been trying to set up Grunt BrowserSync i...</td>\n",
       "      <td>0</td>\n",
       "      <td>True</td>\n",
       "      <td>False</td>\n",
       "      <td>True</td>\n",
       "      <td>7</td>\n",
       "      <td>5</td>\n",
       "      <td>6</td>\n",
       "      <td>4</td>\n",
       "      <td>3</td>\n",
       "      <td>6</td>\n",
       "    </tr>\n",
       "    <tr>\n",
       "      <th>1</th>\n",
       "      <td>Enhancing string search efficiency using panda...</td>\n",
       "      <td>To enhance string search efficiency using pand...</td>\n",
       "      <td>## Step 1: Understand the problem context\\nThe...</td>\n",
       "      <td>```python\\nimport pandas as pd\\n\\n# Assuming w...</td>\n",
       "      <td>The efficiency of searching for strings within...</td>\n",
       "      <td>---\\n\\nWhen dealing with extensive datasets in...</td>\n",
       "      <td>```python\\nimport pandas as pd\\n\\n# Sample Dat...</td>\n",
       "      <td>1</td>\n",
       "      <td>True</td>\n",
       "      <td>False</td>\n",
       "      <td>False</td>\n",
       "      <td>7</td>\n",
       "      <td>8</td>\n",
       "      <td>6</td>\n",
       "      <td>7</td>\n",
       "      <td>5</td>\n",
       "      <td>4</td>\n",
       "    </tr>\n",
       "  </tbody>\n",
       "</table>\n",
       "</div>"
      ],
      "text/plain": [
       "                                            Question  \\\n",
       "0  Having trouble setting up grunt-browser-sync i...   \n",
       "1  Enhancing string search efficiency using panda...   \n",
       "\n",
       "                                                RAG1  \\\n",
       "0  **ANSWER**\\nIt sounds like there are several p...   \n",
       "1  To enhance string search efficiency using pand...   \n",
       "\n",
       "                                                RAG2  \\\n",
       "0  ## Step 1: Identify the issue with grunt-brows...   \n",
       "1  ## Step 1: Understand the problem context\\nThe...   \n",
       "\n",
       "                                                RAG3  \\\n",
       "0  ---\\n\\nI can help with that. To set up Grunt B...   \n",
       "1  ```python\\nimport pandas as pd\\n\\n# Assuming w...   \n",
       "\n",
       "                                                RAG4  \\\n",
       "0  To set up Grunt BrowserSync in Cloud9, you'll ...   \n",
       "1  The efficiency of searching for strings within...   \n",
       "\n",
       "                                                RAG5  \\\n",
       "0  ```javascript\\nmodule.exports = function(grunt...   \n",
       "1  ---\\n\\nWhen dealing with extensive datasets in...   \n",
       "\n",
       "                                                RAG6  RAG1-3_unseen  \\\n",
       "0  I've been trying to set up Grunt BrowserSync i...              0   \n",
       "1  ```python\\nimport pandas as pd\\n\\n# Sample Dat...              1   \n",
       "\n",
       "   RAG4_unseen  RAG5_unseen  RAG6_unseen  RAG4_results  RAG5_results  \\\n",
       "0         True        False         True             7             5   \n",
       "1         True        False        False             7             8   \n",
       "\n",
       "   RAG3_results  RAG1_results  RAG2_results  RAG6_results  \n",
       "0             6             4             3             6  \n",
       "1             6             7             5             4  "
      ]
     },
     "execution_count": 11,
     "metadata": {},
     "output_type": "execute_result"
    }
   ],
   "source": [
    "score_data2.head(2)"
   ]
  },
  {
   "cell_type": "code",
   "execution_count": 22,
   "id": "eef6b3d4",
   "metadata": {},
   "outputs": [],
   "source": [
    "QB1_mean_value = filtered_df1[\"RAG1_results\"].mean()\n",
    "QB1_median_value = filtered_df1[\"RAG1_results\"].median()\n",
    "QB2_mean_value = filtered_df2[\"RAG1_results\"].mean()\n",
    "QB2_median_value = filtered_df2[\"RAG1_results\"].median()\n",
    "QB3_mean_value = filtered_df1[\"RAG2_results\"].mean()\n",
    "QB3_median_value = filtered_df1[\"RAG2_results\"].median()\n",
    "QB4_mean_value = filtered_df2[\"RAG2_results\"].mean()\n",
    "QB4_median_value = filtered_df2[\"RAG2_results\"].median()\n",
    "HB1_mean_value = filtered_df1[\"RAG4_results\"].mean()\n",
    "HB1_median_value = filtered_df1[\"RAG4_results\"].median()\n",
    "HB2_mean_value = filtered_df1[\"RAG5_results\"].mean()\n",
    "HB2_median_value = filtered_df1[\"RAG5_results\"].median()\n",
    "HYB_mean_value = score_data2[\"RAG6_results\"].mean()\n",
    "HYB_median_value = score_data2[\"RAG6_results\"].median()"
   ]
  },
  {
   "cell_type": "code",
   "execution_count": 23,
   "id": "f27d604d",
   "metadata": {},
   "outputs": [
    {
     "name": "stdout",
     "output_type": "stream",
     "text": [
      "QB1 Mean: 5.631168831168831\n",
      "QB1 Median: 6.0\n",
      "QB2 Mean: 5.509433962264151\n",
      "QB2 Median: 5.0\n",
      "QB3 Mean: 5.327272727272727\n",
      "QB3 Median: 5.0\n",
      "QB4 Mean: 5.39622641509434\n",
      "QB4 Median: 6.0\n",
      "HB1 Mean: 6.0\n",
      "HB1 Median: 6.0\n",
      "HB2 Mean: 5.433766233766233\n",
      "HB2 Median: 6.0\n",
      "HYB Mean: 5.667532467532467\n",
      "HYB Median: 6.0\n"
     ]
    }
   ],
   "source": [
    "print(\"QB1 Mean:\", QB1_mean_value)\n",
    "print(\"QB1 Median:\", QB1_median_value)\n",
    "\n",
    "print(\"QB2 Mean:\", QB2_mean_value)\n",
    "print(\"QB2 Median:\", QB2_median_value)\n",
    "\n",
    "print(\"QB3 Mean:\", QB3_mean_value)\n",
    "print(\"QB3 Median:\", QB3_median_value)\n",
    "\n",
    "print(\"QB4 Mean:\", QB4_mean_value)\n",
    "print(\"QB4 Median:\", QB4_median_value)\n",
    "\n",
    "print(\"HB1 Mean:\", HB1_mean_value)\n",
    "print(\"HB1 Median:\", HB1_median_value)\n",
    "\n",
    "print(\"HB2 Mean:\", HB2_mean_value)\n",
    "print(\"HB2 Median:\", HB2_median_value)\n",
    "\n",
    "print(\"HYB Mean:\", HYB_mean_value)\n",
    "print(\"HYB Median:\", HYB_median_value)\n",
    "\n"
   ]
  },
  {
   "cell_type": "code",
   "execution_count": null,
   "id": "1303679b",
   "metadata": {},
   "outputs": [],
   "source": []
  },
  {
   "cell_type": "code",
   "execution_count": null,
   "id": "4207966f",
   "metadata": {},
   "outputs": [],
   "source": []
  }
 ],
 "metadata": {
  "kernelspec": {
   "display_name": "temp",
   "language": "python",
   "name": "python3"
  },
  "language_info": {
   "codemirror_mode": {
    "name": "ipython",
    "version": 3
   },
   "file_extension": ".py",
   "mimetype": "text/x-python",
   "name": "python",
   "nbconvert_exporter": "python",
   "pygments_lexer": "ipython3",
   "version": "3.10.12"
  }
 },
 "nbformat": 4,
 "nbformat_minor": 5
}
