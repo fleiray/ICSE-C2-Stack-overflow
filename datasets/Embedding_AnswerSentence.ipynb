{
 "cells": [
  {
   "cell_type": "code",
   "execution_count": 1,
   "metadata": {},
   "outputs": [],
   "source": [
    "import random\n",
    "import os\n",
    "import os\n",
    "# os.environ[\"CUDA_VISIBLE_DEVICES\"] = \"3\""
   ]
  },
  {
   "cell_type": "code",
   "execution_count": 2,
   "metadata": {},
   "outputs": [
    {
     "name": "stderr",
     "output_type": "stream",
     "text": [
      "/home/21fl11/.local/lib/python3.10/site-packages/torch/storage.py:414: FutureWarning: You are using `torch.load` with `weights_only=False` (the current default value), which uses the default pickle module implicitly. It is possible to construct malicious pickle data which will execute arbitrary code during unpickling (See https://github.com/pytorch/pytorch/blob/main/SECURITY.md#untrusted-models for more details). In a future release, the default value for `weights_only` will be flipped to `True`. This limits the functions that could be executed during unpickling. Arbitrary objects will no longer be allowed to be loaded via this mode unless they are explicitly allowlisted by the user via `torch.serialization.add_safe_globals`. We recommend you start setting `weights_only=True` for any use case where you don't have full control of the loaded file. Please open an issue on GitHub for any issues related to this experimental feature.\n",
      "  return torch.load(io.BytesIO(b))\n"
     ]
    }
   ],
   "source": [
    "import _pickle as cPickle\n",
    "import pickle\n",
    "with open('CODE_POST_OVERALL-EMBEDDINGS_DATA_V3.pkl', 'rb') as f:\n",
    "    OVO_data = cPickle.load(f)\n",
    "import os\n",
    "os.environ[\"CUDA_VISIBLE_DEVICES\"] = \"3\""
   ]
  },
  {
   "cell_type": "code",
   "execution_count": 3,
   "metadata": {},
   "outputs": [],
   "source": [
    "raw_accepted_answers = [item['raw_accepted_answer'] for item in OVO_data]\n",
    "\n",
    "# answer_embeddings_list = [item['answer_embeddings'] for item in OVO_data]\n",
    "\n",
    "answer_sentences_list = [item['answer_sentences'] for item in OVO_data]"
   ]
  },
  {
   "cell_type": "code",
   "execution_count": 4,
   "metadata": {},
   "outputs": [
    {
     "name": "stderr",
     "output_type": "stream",
     "text": [
      "/home/21fl11/.local/lib/python3.10/site-packages/sentence_transformers/cross_encoder/CrossEncoder.py:13: TqdmExperimentalWarning: Using `tqdm.autonotebook.tqdm` in notebook mode. Use `tqdm.tqdm` instead to force console mode (e.g. in jupyter console)\n",
      "  from tqdm.autonotebook import tqdm, trange\n",
      "[nltk_data] Downloading package punkt to /home/21fl11/nltk_data...\n",
      "[nltk_data]   Package punkt is already up-to-date!\n"
     ]
    },
    {
     "data": {
      "text/plain": [
       "True"
      ]
     },
     "execution_count": 4,
     "metadata": {},
     "output_type": "execute_result"
    }
   ],
   "source": [
    "from sentence_transformers import SentenceTransformer, util\n",
    "from tqdm import tqdm\n",
    "import torch\n",
    "import json\n",
    "from tqdm import tqdm\n",
    "import re\n",
    "from nltk.corpus import stopwords\n",
    "from nltk.stem import WordNetLemmatizer\n",
    "lemmatizer = WordNetLemmatizer()\n",
    "import nltk\n",
    "from nltk.tokenize import sent_tokenize\n",
    "\n",
    "# Download the Punkt Tokenizer Models (only need to do this once)\n",
    "nltk.download('punkt')"
   ]
  },
  {
   "cell_type": "code",
   "execution_count": 5,
   "metadata": {},
   "outputs": [],
   "source": [
    "device = \"cuda\"\n",
    "encoder_model = SentenceTransformer('sentence-transformers/all-mpnet-base-v2').to(device)"
   ]
  },
  {
   "cell_type": "code",
   "execution_count": 6,
   "metadata": {},
   "outputs": [],
   "source": [
    "all_sentences = [sentence for group in answer_sentences_list for sentence in group]"
   ]
  },
  {
   "cell_type": "code",
   "execution_count": null,
   "metadata": {},
   "outputs": [
    {
     "name": "stderr",
     "output_type": "stream",
     "text": [
      "Encoding part 1/4: 100%|██████████| 124921/124921 [1:07:11<00:00, 30.98it/s]\n"
     ]
    },
    {
     "name": "stdout",
     "output_type": "stream",
     "text": [
      "Saved embeddings for part 1 with shape (3997446, 768)\n"
     ]
    },
    {
     "name": "stderr",
     "output_type": "stream",
     "text": [
      "Encoding part 2/4: 100%|██████████| 124921/124921 [1:46:23<00:00, 19.57it/s]  \n"
     ]
    },
    {
     "name": "stdout",
     "output_type": "stream",
     "text": [
      "Saved embeddings for part 2 with shape (3997446, 768)\n"
     ]
    },
    {
     "name": "stderr",
     "output_type": "stream",
     "text": [
      "Encoding part 3/4: 100%|██████████| 124921/124921 [2:39:52<00:00, 13.02it/s]  \n"
     ]
    },
    {
     "name": "stdout",
     "output_type": "stream",
     "text": [
      "Saved embeddings for part 3 with shape (3997446, 768)\n"
     ]
    },
    {
     "name": "stderr",
     "output_type": "stream",
     "text": [
      "Encoding part 4/4: 100%|██████████| 124921/124921 [2:39:31<00:00, 13.05it/s]  \n"
     ]
    },
    {
     "name": "stdout",
     "output_type": "stream",
     "text": [
      "Saved embeddings for part 4 with shape (3997446, 768)\n",
      "All parts processed and saved.\n"
     ]
    }
   ],
   "source": [
    "import numpy as np\n",
    "save_dir = \"AnswerEmbedding\"\n",
    "os.makedirs(save_dir, exist_ok=True)\n",
    "\n",
    "# Number of parts to split into\n",
    "num_parts = 4\n",
    "part_size = len(all_sentences) // num_parts\n",
    "\n",
    "for part_index in range(num_parts):\n",
    "    start = part_index * part_size\n",
    "    end = (part_index + 1) * part_size if part_index < num_parts - 1 else len(all_sentences)\n",
    "    sentences_chunk = all_sentences[start:end]\n",
    "\n",
    "    # Encode this chunk in manageable batches\n",
    "    batch_size = 32\n",
    "    chunk_embeddings_list = []\n",
    "\n",
    "    for i in tqdm(range(0, len(sentences_chunk), batch_size), desc=f\"Encoding part {part_index+1}/{num_parts}\"):\n",
    "        batch = sentences_chunk[i:i+batch_size]\n",
    "        batch_embeddings = encoder_model.encode(\n",
    "            batch,\n",
    "            convert_to_tensor=True,\n",
    "            device=device,\n",
    "            show_progress_bar=False\n",
    "        )\n",
    "        # Move to CPU and convert to numpy to free GPU memory\n",
    "        batch_embeddings = batch_embeddings.cpu().numpy()\n",
    "        chunk_embeddings_list.append(batch_embeddings)\n",
    "\n",
    "    # Concatenate all embeddings for this chunk\n",
    "    chunk_embeddings = np.concatenate(chunk_embeddings_list, axis=0)\n",
    "    # Save this chunk's embeddings\n",
    "    np.save(os.path.join(save_dir, f\"embeddings_part_{part_index+1}.npy\"), chunk_embeddings)\n",
    "    print(f\"Saved embeddings for part {part_index+1} with shape {chunk_embeddings.shape}\")\n",
    "\n",
    "print(\"All parts processed and saved.\")"
   ]
  },
  {
   "cell_type": "code",
   "execution_count": 9,
   "metadata": {},
   "outputs": [
    {
     "name": "stdout",
     "output_type": "stream",
     "text": [
      "Loaded embeddings shape: (3997446, 768)\n",
      "First embedding: [-1.59766153e-02 -2.21100752e-03 -1.44797582e-02 -1.44546721e-02\n",
      " -2.25519501e-02 -7.97338842e-04  1.63116585e-02  3.64094228e-02\n",
      " -2.75785495e-02  3.35127255e-03  2.64206752e-02 -2.23280452e-02\n",
      "  2.26558503e-02  1.69685688e-02  1.05268862e-02 -2.23046169e-02\n",
      " -1.13898451e-02 -2.26948317e-03 -6.96935058e-02 -3.35645527e-02\n",
      " -8.67899321e-03  1.12106334e-02 -1.34580946e-02  2.57405434e-02\n",
      "  2.57606735e-03 -2.59166211e-02 -3.71751562e-02 -3.53817232e-02\n",
      " -1.76877063e-02 -2.37585120e-02  3.63303674e-03  2.13548206e-02\n",
      " -2.24412140e-02 -1.52949197e-02  2.17884735e-06 -1.84437130e-02\n",
      "  1.75382141e-02 -9.97955631e-03  1.50554134e-02  6.02692813e-02\n",
      " -1.50444778e-02 -1.33065169e-03 -5.64483851e-02  6.69354200e-03\n",
      " -4.80605103e-03 -5.32964095e-02  4.13686559e-02 -7.74481334e-03\n",
      "  2.83558611e-02 -4.59222682e-02  2.75945868e-02 -4.84167188e-02\n",
      " -1.80807337e-02 -1.00901276e-02  8.77488032e-02  2.97218561e-02\n",
      " -1.65045969e-02  4.46206424e-03 -2.31539682e-02  1.68824196e-02\n",
      "  1.11710932e-02 -3.67487222e-02 -2.57098619e-02 -2.31216792e-02\n",
      " -2.17610374e-02 -5.55316955e-02 -4.38253246e-02 -5.61823621e-02\n",
      "  6.35308921e-02  1.12541253e-02  1.08190715e-01 -4.09327634e-02\n",
      "  6.54934859e-03  7.00418577e-02 -4.02360857e-02  6.26880452e-02\n",
      " -1.50453150e-02 -2.85680369e-02 -2.20523272e-02 -4.53504845e-02\n",
      "  3.90934721e-02  1.59256498e-03 -2.77655702e-02 -4.79006507e-02\n",
      "  1.60272941e-02  2.22476367e-02  3.00918575e-02 -2.91829128e-02\n",
      " -1.52170211e-02 -7.88466111e-02 -2.46449225e-02 -4.24848981e-02\n",
      "  2.01270878e-02  3.48761231e-02  5.55269122e-02 -2.54582502e-02\n",
      " -1.28370980e-02 -3.36178616e-02 -1.07680811e-02 -8.36154744e-02\n",
      "  4.63901237e-02  1.80232208e-02 -3.18160132e-02  1.72634106e-02\n",
      " -1.28590399e-02 -1.14991469e-02  6.38299808e-02 -2.20950805e-02\n",
      "  3.29380110e-03  4.73278984e-02 -1.45948073e-02  1.53263994e-02\n",
      " -2.21904572e-02 -5.68949524e-03 -4.51283902e-02  5.62330931e-02\n",
      " -1.01004079e-01  1.05053857e-02  1.54325636e-02  3.76735406e-04\n",
      "  7.31455907e-02  1.18639488e-02  1.75710360e-03 -1.10428855e-02\n",
      " -2.87932660e-02 -9.53568053e-03 -4.64630686e-02 -6.08938783e-02\n",
      " -4.46451530e-02 -1.62268914e-02  5.49992397e-02  5.73682077e-02\n",
      " -2.30750851e-02  2.33764257e-02 -6.28246507e-03  9.70606580e-02\n",
      "  9.47603211e-03 -4.22104709e-02  4.79749357e-03  4.91158068e-02\n",
      " -1.17981480e-03  2.89236358e-03  1.35299992e-02 -3.02263889e-02\n",
      " -1.16576836e-03 -2.57388167e-02  2.69592181e-03  5.06007066e-03\n",
      " -1.84777528e-02 -9.44780419e-04  5.28718010e-02  7.27625713e-02\n",
      "  3.88796628e-02  2.24480256e-02  4.00599428e-02  2.23826291e-03\n",
      "  4.77625504e-02 -6.79084891e-03 -8.19478109e-02 -7.04900771e-02\n",
      "  2.73588970e-02  3.07180919e-02  6.46308735e-02 -1.40768001e-02\n",
      " -1.10764066e-02 -1.09656770e-02 -5.76222464e-02 -3.74864191e-02\n",
      " -6.14126176e-02 -2.26051249e-02 -5.25425784e-02  3.79772857e-03\n",
      "  4.65738727e-03  3.93518433e-02 -4.42467071e-02  7.31498301e-02\n",
      "  4.08591256e-02 -2.92779244e-02 -2.39924211e-02  5.50819635e-02\n",
      "  6.60169721e-02 -1.06103055e-01 -5.26406616e-03  8.28628913e-02\n",
      "  4.27445956e-02  1.03008691e-02 -1.33898947e-02  9.31766182e-02\n",
      " -4.19280343e-02  2.03292090e-02  3.24714668e-02 -1.45392716e-02\n",
      " -7.55183250e-02  1.07356664e-02 -5.05338935e-03  1.03995884e-02\n",
      "  7.48597831e-02 -3.52046192e-02  4.67909537e-02 -2.35806387e-02\n",
      " -5.84598212e-03 -1.31383063e-02  7.77743086e-02 -1.07447198e-02\n",
      " -2.42239591e-02  1.83680560e-02  4.07189056e-02  8.11386667e-03\n",
      " -1.95186455e-02  1.49167888e-03 -5.06107621e-02  1.54830534e-02\n",
      "  1.39115648e-02  8.17179307e-03  2.75408104e-02  5.19962832e-02\n",
      "  3.65870409e-02  7.16439635e-02  2.64251232e-02  2.21748538e-02\n",
      "  4.20870781e-02 -5.73141617e-04  5.24646342e-02 -6.13026647e-03\n",
      " -1.80884730e-04 -1.79296117e-02  3.00495010e-02  4.74647386e-03\n",
      "  3.94379348e-02 -6.80290209e-03 -1.41485361e-02 -1.02963420e-02\n",
      "  5.96131990e-03  2.19600666e-02  4.79515865e-02  6.10146075e-02\n",
      "  9.56527069e-02  3.27510992e-03  6.50788471e-03 -5.24922796e-02\n",
      "  4.05244483e-03  4.09920067e-02  1.15021067e-02  6.14021206e-03\n",
      "  4.88854311e-02  3.00250575e-02  1.84201146e-03 -2.31302865e-02\n",
      " -4.48139105e-03  4.06665169e-02  1.26010953e-02 -4.87643760e-03\n",
      "  5.20348735e-03  3.99540225e-03  2.13952623e-02  6.57896549e-02\n",
      " -9.64209437e-02 -5.60874082e-02  3.04059461e-02 -2.18561050e-02\n",
      "  8.19398183e-03 -4.51827012e-02  2.43835170e-02 -4.39183563e-02\n",
      "  4.02883589e-02  6.43694922e-02  1.49191860e-02 -3.75096686e-02\n",
      " -2.28449572e-02  1.44776562e-02 -2.24840231e-02  2.17228364e-02\n",
      "  3.39355767e-02  6.71845768e-03  8.74456018e-03 -5.49911596e-02\n",
      " -4.77117896e-02  1.23474766e-02  9.80427582e-03 -5.53156286e-02\n",
      " -3.50928344e-02 -1.12894527e-03 -4.43423688e-02  6.43695891e-03\n",
      "  4.07829434e-02  5.71759976e-03 -4.17852728e-03 -6.98224455e-02\n",
      "  1.92021150e-02 -1.92783512e-02  3.07958871e-02  1.86684038e-02\n",
      "  3.23841050e-02  7.47352093e-03  4.23183804e-03  1.67506859e-02\n",
      " -1.37535734e-02  9.36537907e-02  4.16293368e-02  8.53457227e-02\n",
      " -8.52793902e-02 -3.70428786e-02 -2.36946642e-02 -1.75616741e-02\n",
      " -2.20868681e-02 -3.18264104e-02  4.38962393e-02 -4.19837646e-02\n",
      " -4.37978981e-03 -3.27390358e-02  3.43975872e-02  4.18925770e-02\n",
      "  3.24897803e-02 -1.53365005e-02 -2.57663503e-02  4.81841527e-02\n",
      "  4.46935147e-02  1.14208888e-02 -8.45406577e-03  5.74468300e-02\n",
      "  2.29225741e-04  4.46011238e-02 -1.54908467e-03 -4.24089888e-03\n",
      " -2.49995161e-02  4.20268439e-02 -1.80283759e-03 -2.08755489e-02\n",
      "  2.00536754e-03 -6.29208237e-02  1.35343149e-03 -6.95598079e-03\n",
      " -2.34916564e-02 -2.27252264e-02  4.04008180e-02 -1.01929856e-02\n",
      " -1.84160993e-02 -2.58940402e-02  4.87539209e-02 -2.61697900e-02\n",
      " -1.96120571e-02  2.36288309e-02  1.82346199e-02  1.51804239e-02\n",
      "  5.23556117e-03 -3.41386832e-02  2.32071802e-02 -7.74071412e-03\n",
      "  1.10704522e-03  2.86754966e-02 -3.68290171e-02 -1.74293283e-03\n",
      "  5.28251613e-03  5.00034494e-03 -2.07094271e-02 -2.62462888e-02\n",
      " -1.46764871e-02 -2.38862168e-02 -2.67246757e-02 -2.52878614e-04\n",
      "  4.77271387e-03 -5.77956848e-02 -7.63594583e-02 -3.12413014e-02\n",
      " -1.52688064e-02 -7.06108380e-03  2.43047206e-03 -4.74369228e-02\n",
      "  3.57809216e-02  1.48960510e-02 -4.04001661e-02  4.89525422e-02\n",
      "  5.03302598e-03  2.04240307e-02  1.76231656e-02 -6.79241866e-02\n",
      "  7.99744576e-03 -3.37675773e-02 -2.54069045e-02  4.28957772e-03\n",
      "  1.98145807e-02 -7.64560252e-02  1.69486422e-02 -1.42776100e-02\n",
      "  1.31182168e-02  1.27854599e-02  1.50693106e-02  4.32708785e-02\n",
      "  6.66544167e-03 -3.88123728e-02 -2.74467859e-02  3.24313343e-02\n",
      " -3.01436353e-02 -6.41943188e-03 -1.54059185e-02 -2.60264787e-04\n",
      " -2.72917673e-02 -1.72377527e-02 -1.19781010e-02  3.45366411e-02\n",
      " -2.58211754e-02  5.03015146e-02 -5.92466816e-02  6.62350953e-02\n",
      "  1.32272569e-02  3.22176851e-02  2.16317475e-02  4.24796864e-02\n",
      " -4.26965021e-02 -1.53395329e-02  3.12256664e-02 -4.62624133e-02\n",
      " -1.39187910e-02  3.68286669e-03 -2.44523808e-02 -3.89398821e-02\n",
      " -3.66623737e-02 -3.24840173e-02  1.75055098e-02  2.82366085e-03\n",
      " -5.83157316e-03  4.07017022e-02 -5.77853099e-02  2.40090452e-02\n",
      "  1.25388131e-01  6.76359423e-03  6.30424246e-02 -3.52454297e-02\n",
      " -1.84364058e-02  2.38580280e-03  1.11238062e-02  3.19361314e-03\n",
      " -3.02687157e-02  4.40472588e-02 -2.99827592e-03 -4.60425392e-02\n",
      " -3.79961021e-02  4.27798033e-02  9.82897170e-03 -2.53887307e-02\n",
      "  3.01889591e-02 -1.87387262e-02 -3.58120538e-03  5.79579957e-02\n",
      " -1.16377044e-02 -1.66228171e-02  3.19878682e-02  1.14443956e-03\n",
      " -3.97622474e-02  1.31562874e-02  3.46903242e-02 -1.64517071e-02\n",
      " -2.64176633e-03 -3.59250940e-02 -2.64679012e-03  8.02137610e-03\n",
      "  3.70371691e-03 -3.04996744e-02 -2.99259424e-02 -4.60824147e-02\n",
      "  2.16893349e-02  5.85126653e-02 -3.87417153e-02 -2.26617139e-02\n",
      "  5.00740483e-02 -1.26450583e-01  1.46437101e-02 -1.01421766e-01\n",
      "  1.19345384e-02 -1.70707311e-02  4.08726335e-02  9.44524817e-03\n",
      "  5.52589400e-03  3.91721027e-03  2.19617598e-02 -4.28348295e-02\n",
      " -2.97491867e-02 -3.05327456e-02 -7.05804005e-02 -4.68714815e-03\n",
      " -5.87177388e-02 -1.61355119e-02 -1.67326275e-02 -9.96754318e-02\n",
      "  2.31089573e-02  1.37163689e-02 -7.75045976e-02 -1.85276952e-03\n",
      "  1.37740187e-02  3.04448567e-02 -2.24083625e-02 -2.62351576e-02\n",
      "  1.63082425e-02  1.36085628e-02  4.74720933e-02  2.66845748e-02\n",
      "  7.80750718e-03 -1.21983998e-02 -4.35805544e-02  5.88110201e-02\n",
      " -1.95999946e-02  2.12048180e-02  1.94815490e-02 -8.37651044e-02\n",
      " -3.64833176e-02 -2.00570002e-02 -7.96710141e-03  9.79325501e-04\n",
      " -4.30615284e-02 -2.24843659e-02  2.76358835e-02 -1.15148257e-03\n",
      " -5.41822333e-03 -3.59429307e-02 -2.18356457e-02  2.06639897e-02\n",
      "  3.23259123e-02  1.24096368e-02 -1.22318952e-03  2.86281966e-02\n",
      "  4.10954058e-02  7.26641342e-03  4.88148211e-03 -2.05640197e-02\n",
      " -1.08519895e-02  5.80170192e-03  3.76556665e-02  1.93684548e-02\n",
      " -1.91117041e-02  6.75427243e-02  1.10614412e-02 -3.18955369e-02\n",
      " -3.66128609e-02  2.18292996e-02 -2.56351233e-02  7.27420002e-02\n",
      "  2.42319088e-02  4.79178987e-02 -4.79674861e-02 -5.43213412e-02\n",
      " -1.65094156e-02 -5.84556498e-02 -2.15821387e-03  3.19562219e-02\n",
      "  2.19731242e-03  1.21122925e-02 -1.21980039e-02  2.56680022e-03\n",
      "  5.26539944e-02  2.22815350e-02  6.24335511e-03  2.05652937e-02\n",
      " -3.73645732e-03  5.83449518e-03  4.34441604e-02 -6.46439168e-33\n",
      " -3.65103558e-02  9.08068754e-03 -1.34788090e-02  9.94465500e-02\n",
      "  3.70886289e-02 -2.91360635e-02 -2.93351454e-03  2.37439293e-03\n",
      " -6.47760406e-02 -7.56729115e-03  3.79100479e-02  2.97196209e-02\n",
      "  1.65066533e-02 -1.66846495e-02 -1.51599580e-02  2.42743436e-02\n",
      " -4.91370354e-03 -5.85968606e-03  3.01670143e-03 -2.40340605e-02\n",
      " -2.61769239e-02 -2.27998719e-02  3.33016701e-02  1.09307982e-01\n",
      " -4.56017517e-02  4.97359456e-03 -2.89360937e-02  9.40553471e-03\n",
      "  4.12448496e-02  4.23992425e-02 -3.43227237e-02 -1.60081014e-02\n",
      " -1.91433430e-02  7.44657079e-03  6.21514134e-02  4.39045951e-02\n",
      " -3.31298895e-02 -1.38585111e-02  2.53889728e-02  1.69886742e-02\n",
      " -3.55807282e-02  2.53010709e-02 -8.44202340e-02 -1.33055076e-02\n",
      "  1.04368022e-02  3.53567675e-02  1.80862695e-02  2.55384706e-02\n",
      " -5.39478883e-02 -2.15406753e-02 -7.74542391e-02  1.95682934e-03\n",
      " -1.83304325e-02 -1.56286135e-02  3.22417542e-02  3.82075086e-02\n",
      "  2.82496493e-03 -7.52563924e-02  4.04965356e-02 -7.91493058e-02\n",
      "  1.54879037e-02  4.98576090e-02 -6.81735808e-03  2.66489666e-02\n",
      " -4.85217869e-02 -3.08900196e-02  1.20808575e-02 -1.59202702e-02\n",
      "  3.13330954e-03  4.69581001e-02  5.69762196e-04 -1.86132919e-02\n",
      " -4.82596178e-03  1.73526257e-02 -5.31867072e-02  1.83373911e-03\n",
      " -3.56097668e-02  4.04024273e-02  9.18685866e-04  3.95434648e-02\n",
      "  1.40688559e-02 -2.75060348e-03  2.11852416e-02  8.75913166e-03\n",
      " -2.39797775e-02 -2.01452114e-02 -4.63643745e-02  2.20455844e-02\n",
      "  3.35214064e-02  2.14226954e-02  4.32458520e-02  4.32057753e-02\n",
      " -3.07557993e-02  3.53079103e-02  1.10398969e-02  6.48375079e-02\n",
      "  3.42922807e-02  1.24395546e-02 -2.20683888e-02 -1.45415813e-02\n",
      " -1.93166845e-02 -3.16830315e-02 -5.25335483e-02  2.22068187e-02\n",
      "  1.28549375e-02 -4.33813669e-02 -1.15148481e-02 -3.40108611e-02\n",
      " -5.60203940e-02 -1.28551142e-03 -1.27794659e-02 -6.38267864e-03\n",
      "  1.31279686e-02 -6.40095398e-02 -3.40807647e-03  3.33896391e-02\n",
      "  1.53167583e-02  3.81069481e-02  2.61884183e-02 -4.96259965e-02\n",
      "  2.00906135e-02 -8.43765736e-02  5.19240908e-02  2.67794151e-02\n",
      " -1.68444309e-02 -1.47236502e-02  6.07758714e-03 -3.45646776e-02\n",
      " -6.66285213e-03 -1.36116492e-02  1.97723359e-02  2.82333754e-02\n",
      "  2.68230650e-07 -3.28758694e-02  4.66989120e-03 -2.63809264e-02\n",
      " -2.70277988e-02  1.23983696e-02 -3.86423804e-02  4.90490682e-02\n",
      " -9.89039522e-03  4.37380336e-02 -2.27889717e-02 -6.66759387e-02\n",
      " -3.57282944e-02  1.96721628e-02 -2.91673895e-02 -1.77704301e-02\n",
      "  8.40373058e-03 -2.58836485e-02  1.90792773e-02 -2.21646745e-02\n",
      "  7.99719617e-03  1.25534743e-01  7.53180236e-02 -2.74616964e-02\n",
      "  7.59410160e-03 -1.36801135e-02  3.09024658e-02  3.16013023e-02\n",
      "  3.38521600e-02 -2.88919620e-02 -1.76552050e-02 -4.35438193e-02\n",
      " -6.77207336e-02  2.24227700e-02  7.11184088e-03 -3.77682038e-02\n",
      " -3.14757749e-02  4.66201752e-02  1.69056456e-03  3.15185413e-02\n",
      "  8.01969469e-02 -9.77624394e-03  2.26646252e-02 -3.49289365e-02\n",
      "  1.19156213e-02  3.93178537e-02 -2.41410881e-02 -3.43213463e-03\n",
      "  2.52769627e-02 -1.06011800e-01  1.57355554e-02  5.06644370e-03\n",
      "  1.15995221e-02 -1.03846146e-02 -1.37762842e-03 -8.87218339e-04\n",
      "  4.35585622e-03 -1.31265679e-02  2.66284067e-02  2.01943908e-02\n",
      " -7.27296283e-05 -2.40933355e-02  4.86126132e-02 -2.08611898e-02\n",
      " -3.92882153e-02  7.62663111e-02  2.55763400e-02  1.22931609e-02\n",
      "  2.72806043e-34 -9.00785718e-03 -1.04621435e-02  4.51073721e-02\n",
      "  2.23066695e-02 -1.67535562e-02  1.32539924e-02 -9.04470384e-02\n",
      "  4.10704575e-02 -2.14563683e-02  1.66934598e-02 -4.03855294e-02]\n"
     ]
    }
   ],
   "source": [
    "import numpy as np\n",
    "\n",
    "# Specify the path to your .npy file\n",
    "filename = \"AnswerEmbedding/embeddings_part_1.npy\"\n",
    "\n",
    "# Load the npy file into a numpy array\n",
    "embeddings = np.load(filename)\n",
    "\n",
    "# Now 'embeddings' is a NumPy array containing the data from the file\n",
    "print(\"Loaded embeddings shape:\", embeddings.shape)\n",
    "print(\"First embedding:\", embeddings[0])"
   ]
  },
  {
   "cell_type": "code",
   "execution_count": 10,
   "metadata": {},
   "outputs": [
    {
     "name": "stdout",
     "output_type": "stream",
     "text": [
      "Saved all_sentences with length: 15989784\n"
     ]
    }
   ],
   "source": [
    "np.save(\"AnswerEmbedding/all_sentences.npy\", np.array(all_sentences, dtype=object))\n",
    "print(\"Saved all_sentences with length:\", len(all_sentences))"
   ]
  },
  {
   "cell_type": "code",
   "execution_count": 11,
   "metadata": {},
   "outputs": [],
   "source": [
    "emb_part_1 = np.load(\"AnswerEmbedding/embeddings_part_1.npy\")\n",
    "emb_part_2 = np.load(\"AnswerEmbedding/embeddings_part_2.npy\")\n",
    "emb_part_3 = np.load(\"AnswerEmbedding/embeddings_part_3.npy\")\n",
    "emb_part_4 = np.load(\"AnswerEmbedding/embeddings_part_4.npy\")"
   ]
  },
  {
   "cell_type": "code",
   "execution_count": 12,
   "metadata": {},
   "outputs": [],
   "source": [
    "all_embeddings = np.concatenate([emb_part_1, emb_part_2, emb_part_3, emb_part_4], axis=0)"
   ]
  },
  {
   "cell_type": "code",
   "execution_count": 14,
   "metadata": {},
   "outputs": [
    {
     "data": {
      "text/plain": [
       "15989784"
      ]
     },
     "execution_count": 14,
     "metadata": {},
     "output_type": "execute_result"
    }
   ],
   "source": [
    "len(all_embeddings)"
   ]
  },
  {
   "cell_type": "code",
   "execution_count": 13,
   "metadata": {},
   "outputs": [],
   "source": [
    "# Load the just-saved all_sentences array to verify alignment\n",
    "loaded_sentences = np.load(\"AnswerEmbedding/all_sentences.npy\", allow_pickle=True)\n",
    "\n",
    "# Ensure lengths match\n",
    "assert len(loaded_sentences) == all_embeddings.shape[0], \"Mismatch in number of sentences and embeddings!\"\n"
   ]
  },
  {
   "cell_type": "code",
   "execution_count": 15,
   "metadata": {},
   "outputs": [
    {
     "name": "stdout",
     "output_type": "stream",
     "text": [
      "All embeddings combined and saved. Shape: (15989784, 768)\n"
     ]
    }
   ],
   "source": [
    "np.save(\"AnswerEmbedding/all_embeddings.npy\", all_embeddings)\n",
    "\n",
    "print(\"All embeddings combined and saved. Shape:\", all_embeddings.shape)"
   ]
  },
  {
   "cell_type": "code",
   "execution_count": null,
   "metadata": {},
   "outputs": [],
   "source": []
  }
 ],
 "metadata": {
  "kernelspec": {
   "display_name": "Python 3",
   "language": "python",
   "name": "python3"
  },
  "language_info": {
   "codemirror_mode": {
    "name": "ipython",
    "version": 3
   },
   "file_extension": ".py",
   "mimetype": "text/x-python",
   "name": "python",
   "nbconvert_exporter": "python",
   "pygments_lexer": "ipython3",
   "version": "3.10.12"
  }
 },
 "nbformat": 4,
 "nbformat_minor": 2
}
